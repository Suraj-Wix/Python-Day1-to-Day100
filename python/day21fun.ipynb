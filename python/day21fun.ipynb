{
 "cells": [
  {
   "cell_type": "code",
   "execution_count": 3,
   "metadata": {},
   "outputs": [
    {
     "name": "stdout",
     "output_type": "stream",
     "text": [
      "The average is 5.0\n"
     ]
    }
   ],
   "source": [
    "def average(a ,b):\n",
    "    print(\"The average is\",(a+b)/2)\n",
    "    \n",
    "average(4,6)\n",
    "    \n",
    "    "
   ]
  },
  {
   "cell_type": "code",
   "execution_count": 4,
   "metadata": {},
   "outputs": [
    {
     "name": "stdout",
     "output_type": "stream",
     "text": [
      "The average is  3.0\n",
      "The average is  9.0\n"
     ]
    }
   ],
   "source": [
    "\n",
    "def average(a=9,b=1):\n",
    "     print(\"The average is \",(a+b)/2)\n",
    "    \n",
    "    # average()\n",
    "    #  average(1,5)\n",
    "average(5)\n",
    "average(b=9)\n",
    "    \n",
    "    \n",
    "    \n",
    "    "
   ]
  },
  {
   "cell_type": "code",
   "execution_count": 7,
   "metadata": {},
   "outputs": [
    {
     "name": "stdout",
     "output_type": "stream",
     "text": [
      "Hello, Amy Agarwal Jain\n"
     ]
    }
   ],
   "source": [
    "def name(fname, mname = \"Jhon\",lname =\"Whatson\"):\n",
    "    print(\"Hello,\",fname,mname,lname)\n",
    "name(\"Amy\",\"Agarwal\",\"Jain\")   \n",
    "    "
   ]
  },
  {
   "cell_type": "code",
   "execution_count": 8,
   "metadata": {},
   "outputs": [
    {
     "name": "stdout",
     "output_type": "stream",
     "text": [
      "The average is 5.0\n",
      "The average is 15.0\n"
     ]
    }
   ],
   "source": [
    "def average(a ,b):\n",
    "    print(\"The average is\",(a+b)/2)\n",
    "    \n",
    "average(4,6)\n",
    "average(b=9, a=21)"
   ]
  },
  {
   "cell_type": "code",
   "execution_count": 13,
   "metadata": {},
   "outputs": [
    {
     "name": "stdout",
     "output_type": "stream",
     "text": [
      "The average is  6.0\n"
     ]
    }
   ],
   "source": [
    "def average(a,b,c=1):\n",
    "    print(\"The average is \",(a+b+c)/2)\n",
    "\n",
    "average(5,6)"
   ]
  },
  {
   "cell_type": "code",
   "execution_count": 20,
   "metadata": {},
   "outputs": [
    {
     "name": "stdout",
     "output_type": "stream",
     "text": [
      "<class 'tuple'>\n",
      "Average is: 4.75\n"
     ]
    }
   ],
   "source": [
    "def average(*numbers):\n",
    "    print(type(numbers))\n",
    "    sum =0\n",
    "    for i in numbers:\n",
    "        sum = sum +i\n",
    "    print(\"Average is:\",sum/len(numbers))\n",
    "average(5,6,7,1)"
   ]
  },
  {
   "cell_type": "code",
   "execution_count": 23,
   "metadata": {},
   "outputs": [
    {
     "name": "stdout",
     "output_type": "stream",
     "text": [
      "<class 'dict'>\n",
      "Hello, James Buchanan Barnes\n"
     ]
    }
   ],
   "source": [
    "def name(**name):\n",
    "    print (type(name))\n",
    "    print(\"Hello,\",name[\"fname\"],name[\"mname\"],name[\"lname\"])\n",
    "name(mname=\"Buchanan\",lname=\"Barnes\",fname=\"James\")"
   ]
  },
  {
   "cell_type": "code",
   "execution_count": 27,
   "metadata": {},
   "outputs": [
    {
     "name": "stdout",
     "output_type": "stream",
     "text": [
      "7\n"
     ]
    }
   ],
   "source": [
    "def average(*numbers):\n",
    "    # print(type(numbers))\n",
    "    sum =0\n",
    "    for i in numbers:\n",
    "        sum = sum +i\n",
    "    # print(\"Average is:\",sum/len(numbers))\n",
    "    \n",
    "    return 7 #let support agar main return n kru toh none milega\n",
    "    return sum/len(numbers)\n",
    "c=average(5,6,7,1)\n",
    "print(c)"
   ]
  }
 ],
 "metadata": {
  "kernelspec": {
   "display_name": "Python 3",
   "language": "python",
   "name": "python3"
  },
  "language_info": {
   "codemirror_mode": {
    "name": "ipython",
    "version": 3
   },
   "file_extension": ".py",
   "mimetype": "text/x-python",
   "name": "python",
   "nbconvert_exporter": "python",
   "pygments_lexer": "ipython3",
   "version": "3.12.3"
  }
 },
 "nbformat": 4,
 "nbformat_minor": 2
}
