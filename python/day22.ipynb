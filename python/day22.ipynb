{
 "cells": [
  {
   "cell_type": "code",
   "execution_count": 5,
   "metadata": {},
   "outputs": [
    {
     "name": "stdout",
     "output_type": "stream",
     "text": [
      "(8+2j)\n",
      "True\n",
      "harry\n",
      "None\n",
      "The type of a is <class 'complex'>\n",
      "The type of b is <class 'bool'>\n",
      "The type of c is <class 'str'>\n",
      "The type of d is <class 'NoneType'>\n",
      "[8, 2.3, [-4, 5], ['apple', 'banana']]\n",
      "(('parrot', 'sparrow'), ('Lion', 'Tiger'))\n",
      "{'name': 'Sakshi', 'age': 20, 'canVote': True}\n"
     ]
    }
   ],
   "source": [
    "a=complex(8,2)\n",
    "b=True\n",
    "c=\"harry\"\n",
    "d=None\n",
    "print(a)\n",
    "print(b)\n",
    "print(c)\n",
    "print(d)\n",
    "print(\"The type of a is\", type(a))\n",
    "print(\"The type of b is\", type(b))\n",
    "print(\"The type of c is\", type(c))\n",
    "print(\"The type of d is\", type(d))\n",
    "\n",
    "list1 = [8,2.3,[-4,5],[\"apple\",\n",
    "\"banana\"]]\n",
    "print(list1)\n",
    "\n",
    "tuple1 =((\"parrot\",\"sparrow\"),\n",
    "(\"Lion\",\"Tiger\"))\n",
    "print(tuple1)\n",
    "\n",
    "dict1={\"name\":\"Sakshi\",\"age\":20,\n",
    "       \"canVote\":True}\n",
    "print(dict1)"
   ]
  },
  {
   "cell_type": "code",
   "execution_count": 4,
   "metadata": {},
   "outputs": [
    {
     "name": "stdout",
     "output_type": "stream",
     "text": [
      "[3, 5, 6, 'Harry', True]\n",
      "<class 'list'>\n",
      "3\n",
      "5\n",
      "6\n",
      "Harry\n",
      "True\n"
     ]
    }
   ],
   "source": [
    "marks=[3,5,6,\"Harry\",True]\n",
    "print(marks)\n",
    "print(type(marks))\n",
    "print(marks[0])\n",
    "print(marks[1])\n",
    "print(marks[2])\n",
    "print(marks[3])\n",
    "print(marks[4])\n",
    "# print(marks[5])"
   ]
  },
  {
   "cell_type": "code",
   "execution_count": null,
   "metadata": {},
   "outputs": [],
   "source": [
    "marks = [3,5,6,\"Harry,True\"]\n",
    "# print(marks[-3])#negative index\n",
    "# print(marks[len(marks)-3])#negative index\n",
    "# print(marks[5-3])#positive index\n",
    "# print(marks[2])#positice index\n",
    "\n",
    "if 7 in marks:\n",
    "    print(\"yes\")\n",
    "else:\n",
    "    print(\"no\")\n",
    "    # Same thing applies fo strings as well!\n",
    "    # if\"ha\" in \"harry\":\n",
    "        # print(\"yes\")"
   ]
  },
  {
   "cell_type": "code",
   "execution_count": 14,
   "metadata": {},
   "outputs": [
    {
     "name": "stdout",
     "output_type": "stream",
     "text": [
      "[3, 5, 6, 'Harry', True]\n",
      "[5, 6, 'Harry']\n",
      "[5, 'Harry']\n"
     ]
    }
   ],
   "source": [
    "marks =[3,5,6,\"Harry\",True]\n",
    "print(marks)\n",
    "print(marks[1:-1])\n",
    "print(marks[1:4:2])\n"
   ]
  },
  {
   "cell_type": "code",
   "execution_count": 16,
   "metadata": {},
   "outputs": [
    {
     "name": "stdout",
     "output_type": "stream",
     "text": [
      "[3, 5, 6, 'Harry', True, 6, 7, 2, 32, 345, 23]\n",
      "[5, 6, 'Harry', True, 6, 7, 2, 32]\n",
      "[5, True, 2]\n"
     ]
    }
   ],
   "source": [
    "marks =[3,5,6,\"Harry\",True,6,7,2,32,345,23]\n",
    "print(marks)\n",
    "print(marks[1:9])\n",
    "print(marks[1:9:3])\n"
   ]
  },
  {
   "cell_type": "code",
   "execution_count": 20,
   "metadata": {},
   "outputs": [
    {
     "name": "stdout",
     "output_type": "stream",
     "text": [
      "[0, 1, 4, 9, 16, 25, 36, 49, 64, 81]\n",
      "[0, 4, 16, 36, 64]\n"
     ]
    }
   ],
   "source": [
    "marks =[3,5,6,\"Harry\",True,6,7,2,32,345,23]\n",
    "# print(marks[0:7])\n",
    "# print(marks[1:9])\n",
    "# print(marks[1:9:3])\n",
    "\n",
    "lst=[i*i for i in range(10)]\n",
    "print(lst)\n",
    "lst=[i*i for i in range(10) if i%2==0]\n",
    "print(lst)\n",
    "\n",
    "\n"
   ]
  },
  {
   "cell_type": "code",
   "execution_count": null,
   "metadata": {},
   "outputs": [],
   "source": [
    "list1 = [\"patna\",\"bhilai\",\"mumbai\"]\n",
    "print(list1)\n",
    "list1.append(\"raipur\")\n",
    "list1.insert(1,\"goa\")\n",
    "list1.remove(\"mumbai\")"
   ]
  },
  {
   "cell_type": "code",
   "execution_count": null,
   "metadata": {},
   "outputs": [],
   "source": [
    "class child (father,mother):\n",
    "    def hobby(self):\n",
    "        print (\"child:love painting\")\n",
    "        \n",
    "        c.child()\n",
    "        c.skill()\n",
    "        c.talent()\n",
    "        c.hobby()\n",
    "\n",
    "\n"
   ]
  },
  {
   "cell_type": "code",
   "execution_count": null,
   "metadata": {},
   "outputs": [],
   "source": []
  },
  {
   "cell_type": "code",
   "execution_count": null,
   "metadata": {},
   "outputs": [],
   "source": []
  }
 ],
 "metadata": {
  "kernelspec": {
   "display_name": "Python 3",
   "language": "python",
   "name": "python3"
  },
  "language_info": {
   "codemirror_mode": {
    "name": "ipython",
    "version": 3
   },
   "file_extension": ".py",
   "mimetype": "text/x-python",
   "name": "python",
   "nbconvert_exporter": "python",
   "pygments_lexer": "ipython3",
   "version": "3.12.3"
  }
 },
 "nbformat": 4,
 "nbformat_minor": 2
}
